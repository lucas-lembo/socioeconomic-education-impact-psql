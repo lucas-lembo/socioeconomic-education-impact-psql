{
 "cells": [
  {
   "cell_type": "markdown",
   "id": "fc271135",
   "metadata": {},
   "source": [
    "# Preprocessing the Datasets\n",
    "\n",
    "We need to format the datasets to properly fit into our database, since they don't necessarily fulfill the patterns that we'll use."
   ]
  },
  {
   "cell_type": "code",
   "execution_count": null,
   "id": "847c03c0",
   "metadata": {},
   "outputs": [
    {
     "ename": "",
     "evalue": "",
     "output_type": "error",
     "traceback": [
      "\u001b[1;31mA execução de células com 'Python 3.10.15' requer o pacote ipykernel.\n",
      "\u001b[1;31mExecute o seguinte comando para instalar \"ipykernel\" no ambiente do Python. \n",
      "\u001b[1;31mComando: \"/usr/bin/python3.10 -m pip install ipykernel -U --user --force-reinstall\""
     ]
    }
   ],
   "source": [
    "import pandas as pd\n",
    "import warnings\n",
    "warnings.filterwarnings('ignore', category=pd.errors.DtypeWarning)"
   ]
  },
  {
   "cell_type": "markdown",
   "id": "866add30",
   "metadata": {},
   "source": [
    "The header and footer rows of the dataset `INSE_2021_escolas.xlsx` were manually removed in Excel, since pandas could not correctly identify the actual columns (see `images/` for how they were originally). At this stage, the files have already been converted to `csv` and saved as `datasets/desempenho_escolar.csv` and `datasets/indicadores_socio_economicos.csv`.\n"
   ]
  },
  {
   "cell_type": "code",
   "execution_count": null,
   "id": "41bb738f",
   "metadata": {},
   "outputs": [],
   "source": [
    "df_desempenho_escolar = pd.read_csv('../datasets/unprocessed/desempenho_escolar.csv')\n",
    "df_inse = pd.read_csv('../datasets/unprocessed/indicadores_socio_economicos.csv')"
   ]
  },
  {
   "cell_type": "markdown",
   "id": "6e84b0b8",
   "metadata": {},
   "source": [
    "One issue with the dataset is that there are schools in the School Performance dataset that are not present in the Socioeconomic Indicators dataset. To address this, we decided to filter the values in both tables to include only the schools that exist in both datasets."
   ]
  },
  {
   "cell_type": "code",
   "execution_count": null,
   "id": "995dfa87",
   "metadata": {},
   "outputs": [],
   "source": [
    "ids_validos = df_inse['ID_ESCOLA'].unique()\n",
    "df_desempenho_escolar_filtrado = df_desempenho_escolar[df_desempenho_escolar['ID_ESCOLA'].isin(ids_validos)]\n",
    "\n",
    "print('---------- Filtering School Performance Dataset ----------')\n",
    "print('Number of schools in the School Performance Dataset:                ', len(df_desempenho_escolar))\n",
    "print('Number of schools in the School Performance Dataset after filtering:', len(df_desempenho_escolar_filtrado))\n",
    "df_desempenho_escolar = df_desempenho_escolar_filtrado\n",
    "\n",
    "ids_validos = df_desempenho_escolar['ID_ESCOLA'].unique()\n",
    "df_inse_filtrado = df_inse[df_inse['ID_ESCOLA'].isin(ids_validos)]\n",
    "\n",
    "print('\\n---------- Filtering INSE Dataset ----------')\n",
    "print('Number of schools in the INSE Dataset:                ', len(df_inse))\n",
    "print('Number of schools in the INSE Dataset after filtering:', len(df_inse_filtrado))\n",
    "df_inse = df_inse_filtrado"
   ]
  },
  {
   "cell_type": "markdown",
   "id": "f73490b4",
   "metadata": {},
   "source": [
    "Note that the values in the School Performance dataset use a **comma** instead of a **dot** as the decimal separator. Pandas does not interpret this correctly, so we will replace it. Since there are no other values containing commas, it is safe to apply a `replace` operation to all values currently read as strings."
   ]
  },
  {
   "cell_type": "code",
   "execution_count": null,
   "id": "beabb7f7",
   "metadata": {},
   "outputs": [
    {
     "ename": "",
     "evalue": "",
     "output_type": "error",
     "traceback": [
      "\u001b[1;31mA execução de células com 'Python 3.10.15' requer o pacote ipykernel.\n",
      "\u001b[1;31mExecute o seguinte comando para instalar \"ipykernel\" no ambiente do Python. \n",
      "\u001b[1;31mComando: \"/usr/bin/python3.10 -m pip install ipykernel -U --user --force-reinstall\""
     ]
    }
   ],
   "source": [
    "df_desempenho_escolar = df_desempenho_escolar.map(lambda x: float(str(x).replace(',', '.')) if isinstance(x, str) and ',' in x else x)"
   ]
  },
  {
   "cell_type": "markdown",
   "id": "01039dc0",
   "metadata": {},
   "source": [
    "The datasets are now properly formatted and can be easily read for data insertion into the database."
   ]
  },
  {
   "cell_type": "code",
   "execution_count": null,
   "id": "69e64e72",
   "metadata": {},
   "outputs": [],
   "source": [
    "df_desempenho_escolar.to_csv('../datasets/desempenho_escolar.csv', index=False)\n",
    "df_inse.to_csv('../datasets/indicadores_socio_economicos.csv', index=False)# "
   ]
  }
 ],
 "metadata": {
  "kernelspec": {
   "display_name": "Python 3",
   "language": "python",
   "name": "python3"
  },
  "language_info": {
   "codemirror_mode": {
    "name": "ipython",
    "version": 3
   },
   "file_extension": ".py",
   "mimetype": "text/x-python",
   "name": "python",
   "nbconvert_exporter": "python",
   "pygments_lexer": "ipython3",
   "version": "3.10.15"
  }
 },
 "nbformat": 4,
 "nbformat_minor": 5
}
