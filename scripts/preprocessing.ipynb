{
 "cells": [
  {
   "cell_type": "markdown",
   "id": "fc271135",
   "metadata": {},
   "source": [
    "# Pré-Processamento dos Datasets\n",
    "\n",
    "Precisamos formatar os datasets para caber corretamente no nosso banco de dados"
   ]
  },
  {
   "cell_type": "code",
   "execution_count": 39,
   "id": "847c03c0",
   "metadata": {},
   "outputs": [],
   "source": [
    "import pandas as pd"
   ]
  },
  {
   "cell_type": "markdown",
   "id": "d60c74a1",
   "metadata": {},
   "source": [
    "<!-- ![Colunas de cabeçalho originalmente](../images/cabecalhos.png)\n",
    "![Colunas de rodapé originalmente](../images/rodape.png) -->\n",
    "<div style=\"margin: 20px 0;\">\n",
    "  <div style=\"margin-bottom: 30px;\">\n",
    "    <img src=\"/images/cabecalhos.png\" alt=\"Colunas de cabeçalho originalmente\" \n",
    "         style=\"width: 80%; max-width: 800px; height: auto; display: block; margin: 0 auto; border: 1px solid #ddd;\">\n",
    "    <p style=\"text-align: center; font-style: italic; margin-top: 8px;\">Colunas de cabeçalho originalmente</p>\n",
    "  </div>\n",
    "  \n",
    "  <div style=\"margin-top: 40px;\">\n",
    "    <img src=\"/images/rodape.png\" alt=\"Colunas de rodapé originalmente\" \n",
    "         style=\"width: 80%; max-width: 800px; height: auto; display: block; margin: 0 auto; border: 1px solid #ddd;\">\n",
    "    <p style=\"text-align: center; font-style: italic; margin-top: 8px;\">Colunas de rodapé originalmente</p>\n",
    "  </div>\n",
    "</div>"
   ]
  },
  {
   "cell_type": "markdown",
   "id": "866add30",
   "metadata": {},
   "source": [
    "As colunas de cabeçalho e de rodapé do dataset INSE_2021_escolas.xlsx foram retiradas manualmente no Excel, já que o pandas não consegue reconhecer as reais colunas. Nessa etapa, eles já foram convertidos para `csv` e salvos em `datasets/desempenho_escolar.csv` e `datasets/indicadores_socio_economicos.csv`."
   ]
  },
  {
   "cell_type": "code",
   "execution_count": 40,
   "id": "41bb738f",
   "metadata": {},
   "outputs": [
    {
     "name": "stderr",
     "output_type": "stream",
     "text": [
      "/tmp/ipykernel_21776/2984961294.py:1: DtypeWarning: Columns (48) have mixed types. Specify dtype option on import or set low_memory=False.\n",
      "  df_desempenho_escolar = pd.read_csv('../datasets/originals/desempenho_escolar.csv')\n"
     ]
    }
   ],
   "source": [
    "df_desempenho_escolar = pd.read_csv('../datasets/originals/desempenho_escolar.csv')\n",
    "df_inse = pd.read_csv('../datasets/originals/indicadores_socio_economicos.csv')"
   ]
  },
  {
   "cell_type": "markdown",
   "id": "6e84b0b8",
   "metadata": {},
   "source": [
    "Um problema do dataset é que há escolas no dataset de Desempenho Escolar que não estão no dataset de Indicadores Socio Economicos. Para isso, vamos filtrar os valores de ambas as tabelas considerando as escolas que existem em ambos."
   ]
  },
  {
   "cell_type": "code",
   "execution_count": 41,
   "id": "995dfa87",
   "metadata": {},
   "outputs": [
    {
     "name": "stdout",
     "output_type": "stream",
     "text": [
      "---------- Filtrando Desempenho Escolar ----------\n",
      "Numero escolas no Dataset Desempenho Escolar:                 21578\n",
      "Numero escolas no Dataset Desempenho Escolar após filtrar:    19278\n",
      "\n",
      "---------- Filtrando INSE ----------\n",
      "Numero escolas no Dataset INSE:                 69820\n",
      "Numero escolas no Dataset INSE após filtrar:    19278\n"
     ]
    }
   ],
   "source": [
    "ids_validos = df_inse['ID_ESCOLA'].unique()\n",
    "df_desempenho_escolar_filtrado = df_desempenho_escolar[df_desempenho_escolar['ID_ESCOLA'].isin(ids_validos)]\n",
    "\n",
    "print('---------- Filtrando Desempenho Escolar ----------')\n",
    "print('Numero escolas no Dataset Desempenho Escolar:                ', len(df_desempenho_escolar))\n",
    "print('Numero escolas no Dataset Desempenho Escolar após filtrar:   ', len(df_desempenho_escolar_filtrado))\n",
    "df_desempenho_escolar = df_desempenho_escolar_filtrado\n",
    "\n",
    "ids_validos = df_desempenho_escolar['ID_ESCOLA'].unique()\n",
    "df_inse_filtrado = df_inse[df_inse['ID_ESCOLA'].isin(ids_validos)]\n",
    "\n",
    "print('\\n---------- Filtrando INSE ----------')\n",
    "print('Numero escolas no Dataset INSE:                ', len(df_inse))\n",
    "print('Numero escolas no Dataset INSE após filtrar:   ', len(df_inse_filtrado))\n",
    "df_inse = df_inse_filtrado"
   ]
  },
  {
   "cell_type": "markdown",
   "id": "f73490b4",
   "metadata": {},
   "source": [
    "Agora, repare que os valores do dataset de Desempenho Escolar denotam valores de ponto flutuante com `vírgula` em vez de `ponto`. O pandas não lê isso corretamente, então vamos substituir. Como não há nenhum outro valor que contenha vírgulas, é possível aplicar um replace em todos os os valores lidos como String atualmente."
   ]
  },
  {
   "cell_type": "code",
   "execution_count": 42,
   "id": "beabb7f7",
   "metadata": {},
   "outputs": [],
   "source": [
    "df_desempenho_escolar = df_desempenho_escolar.map(lambda x: float(str(x).replace(',', '.')) if isinstance(x, str) and ',' in x else x)"
   ]
  },
  {
   "cell_type": "markdown",
   "id": "01039dc0",
   "metadata": {},
   "source": [
    "Agora os datasets estão corretamente formatados e podem ser facilmente lidos para a inserção dos dados no banco."
   ]
  },
  {
   "cell_type": "code",
   "execution_count": 43,
   "id": "69e64e72",
   "metadata": {},
   "outputs": [],
   "source": [
    "df_desempenho_escolar.to_csv('../datasets/desempenho_escolar.csv', index=False)\n",
    "df_inse.to_csv('../datasets/indicadores_socio_economicos.csv', index=False)# "
   ]
  }
 ],
 "metadata": {
  "kernelspec": {
   "display_name": "projeto1mc536",
   "language": "python",
   "name": "python3"
  },
  "language_info": {
   "codemirror_mode": {
    "name": "ipython",
    "version": 3
   },
   "file_extension": ".py",
   "mimetype": "text/x-python",
   "name": "python",
   "nbconvert_exporter": "python",
   "pygments_lexer": "ipython3",
   "version": "3.10.12"
  }
 },
 "nbformat": 4,
 "nbformat_minor": 5
}
